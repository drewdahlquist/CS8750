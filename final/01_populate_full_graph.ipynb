{
  "cells": [
    {
      "cell_type": "markdown",
      "metadata": {
        "id": "view-in-github",
        "colab_type": "text"
      },
      "source": [
        "<a href=\"https://colab.research.google.com/github/drewdahlquist/CS8750/blob/main/final/01_populate_full_graph.ipynb\" target=\"_parent\"><img src=\"https://colab.research.google.com/assets/colab-badge.svg\" alt=\"Open In Colab\"/></a>"
      ]
    },
    {
      "cell_type": "markdown",
      "source": [
        "# Let's now cut to the chase on Method 1\n",
        "\n",
        "We are going to skip ahead to the \"meat\" since the majority of the notebook before then is identical to `00`.  If you are running this on Google Colab, be sure to run the following cell:"
      ],
      "metadata": {
        "id": "kjuzxrJrSqzr"
      },
      "id": "kjuzxrJrSqzr"
    },
    {
      "cell_type": "code",
      "execution_count": null,
      "source": [
        "!pip install py2neo\n",
        "!pip install wikipedia\n",
        "!pip install spacy #==3.0.3"
      ],
      "outputs": [],
      "metadata": {
        "id": "xHN3poiaSqzs"
      },
      "id": "xHN3poiaSqzs"
    },
    {
      "cell_type": "code",
      "execution_count": 16,
      "source": [
        "import json\n",
        "import re\n",
        "import urllib\n",
        "from pprint import pprint\n",
        "import time\n",
        "from tqdm import tqdm\n",
        "\n",
        "from py2neo import Node, Graph, Relationship, NodeMatcher\n",
        "from py2neo.bulk import merge_nodes\n",
        "\n",
        "import numpy as np\n",
        "import pandas as pd\n",
        "import wikipedia\n",
        "from sklearn.metrics.pairwise import cosine_similarity\n",
        "\n",
        "import spacy\n",
        "from spacy.lang.en.stop_words import STOP_WORDS\n",
        "from spacy.matcher import Matcher\n",
        "from spacy.tokens import Doc, Span, Token\n",
        "\n",
        "print(spacy.__version__)"
      ],
      "outputs": [
        {
          "output_type": "stream",
          "name": "stdout",
          "text": [
            "3.5.2\n"
          ]
        }
      ],
      "metadata": {
        "id": "vUFbaLmVSqzt",
        "colab": {
          "base_uri": "https://localhost:8080/"
        },
        "outputId": "19704160-519d-4601-fa68-beff93526dff"
      },
      "id": "vUFbaLmVSqzt"
    },
    {
      "cell_type": "markdown",
      "source": [
        "# Introduction\n",
        "\n",
        "We are now going to create a slightly larger graph, this time including Michelle Obama (who should obviously be there, but didn't happen to be part of Barack Obama's Wikipedia summary).  \n",
        "\n",
        "I am going to skip some of the notebook comments from the previous notebook and just include all of the functions we used then at the top of this notebook.  I am also going to create a few helper functions (the last cell of functions before the fun begins) that will make the code a bit \"easier on the eyes.\"  So please feel free to skip on ahead to the bottom of the notebook, knowing that the cell here with all of the functions is the concatenation of all of those functions from the previous notebook.\n",
        "\n",
        "## If you are running this on Google Colab, don't forget to import the language model in the following cell:"
      ],
      "metadata": {
        "id": "tsmqiepoSqzw"
      },
      "id": "tsmqiepoSqzw"
    },
    {
      "cell_type": "code",
      "execution_count": null,
      "source": [
        "!python -m spacy download en_core_web_md"
      ],
      "outputs": [],
      "metadata": {
        "id": "9SUEOwbzSqzx"
      },
      "id": "9SUEOwbzSqzx"
    },
    {
      "cell_type": "code",
      "execution_count": null,
      "source": [
        "SUBJECTS = [\"nsubj\", \"nsubjpass\", \"csubj\", \"csubjpass\", \"agent\", \"expl\"]\n",
        "VERBS = ['ROOT', 'advcl']\n",
        "OBJECTS = [\"dobj\", \"dative\", \"attr\", \"oprd\", 'pobj']\n",
        "ENTITY_LABELS = ['PERSON', 'NORP', 'GPE', 'ORG', 'FAC', 'LOC', 'PRODUCT', 'EVENT', 'WORK_OF_ART']\n",
        "\n",
        "api_key = open('.api_key').read()\n",
        "\n",
        "non_nc = spacy.load('en_core_web_md')\n",
        "\n",
        "nlp = spacy.load('en_core_web_md')\n",
        "nlp.add_pipe('merge_noun_chunks')"
      ],
      "outputs": [],
      "metadata": {
        "id": "xUwMBum5Sqzx"
      },
      "id": "xUwMBum5Sqzx"
    },
    {
      "cell_type": "code",
      "execution_count": null,
      "source": [
        "def query_google(query, api_key, limit=10, indent=True, return_lists=True):\n",
        "    \n",
        "    text_ls = []\n",
        "    node_label_ls = []\n",
        "    url_ls = []\n",
        "    \n",
        "    params = {\n",
        "        'query': query,\n",
        "        'limit': limit,\n",
        "        'indent': indent,\n",
        "        'key': api_key,\n",
        "    }   \n",
        "    \n",
        "    service_url = 'https://kgsearch.googleapis.com/v1/entities:search'\n",
        "    url = service_url + '?' + urllib.parse.urlencode(params)\n",
        "    response = json.loads(urllib.request.urlopen(url).read())\n",
        "    \n",
        "    if return_lists:\n",
        "        for element in response['itemListElement']:\n",
        "\n",
        "            try:\n",
        "                node_label_ls.append(element['result']['@type'])\n",
        "            except:\n",
        "                node_label_ls.append('')\n",
        "\n",
        "            try:\n",
        "                text_ls.append(element['result']['detailedDescription']['articleBody'])\n",
        "            except:\n",
        "                text_ls.append('')\n",
        "                \n",
        "            try:\n",
        "                url_ls.append(element['result']['detailedDescription']['url'])\n",
        "            except:\n",
        "                url_ls.append('')\n",
        "                \n",
        "        return text_ls, node_label_ls, url_ls\n",
        "    \n",
        "    else:\n",
        "        return response"
      ],
      "outputs": [],
      "metadata": {
        "id": "qJbGf-FwSqzz"
      },
      "id": "qJbGf-FwSqzz"
    },
    {
      "cell_type": "code",
      "execution_count": null,
      "source": [
        "def remove_special_characters(text):\n",
        "    \n",
        "    regex = re.compile(r'[\\n\\r\\t]')\n",
        "    clean_text = regex.sub(\" \", text)\n",
        "    \n",
        "    return clean_text\n",
        "\n",
        "\n",
        "def remove_stop_words_and_punct(text, print_text=False):\n",
        "    \n",
        "    result_ls = []\n",
        "    rsw_doc = non_nc(text)\n",
        "    \n",
        "    for token in rsw_doc:\n",
        "        if print_text:\n",
        "            print(token, token.is_stop)\n",
        "            print('--------------')\n",
        "        if not token.is_stop and not token.is_punct:\n",
        "            result_ls.append(str(token))\n",
        "    \n",
        "    result_str = ' '.join(result_ls)\n",
        "\n",
        "    return result_str\n",
        "\n",
        "\n",
        "def create_svo_lists(doc, print_lists):\n",
        "    \n",
        "    subject_ls = []\n",
        "    verb_ls = []\n",
        "    object_ls = []\n",
        "\n",
        "    for token in doc:\n",
        "        if token.dep_ in SUBJECTS:\n",
        "            subject_ls.append((token.lower_, token.idx))\n",
        "        elif token.dep_ in VERBS:\n",
        "            verb_ls.append((token.lemma_, token.idx))\n",
        "        elif token.dep_ in OBJECTS:\n",
        "            object_ls.append((token.lower_, token.idx))\n",
        "\n",
        "    if print_lists:\n",
        "        print('SUBJECTS: ', subject_ls)\n",
        "        print('VERBS: ', verb_ls)\n",
        "        print('OBJECTS: ', object_ls)\n",
        "    \n",
        "    return subject_ls, verb_ls, object_ls\n",
        "\n",
        "\n",
        "def remove_duplicates(tup, tup_posn):\n",
        "    \n",
        "    check_val = set()\n",
        "    result = []\n",
        "    \n",
        "    for i in tup:\n",
        "        if i[tup_posn] not in check_val:\n",
        "            result.append(i)\n",
        "            check_val.add(i[tup_posn])\n",
        "            \n",
        "    return result\n",
        "\n",
        "\n",
        "def remove_dates(tup_ls):\n",
        "    \n",
        "    clean_tup_ls = []\n",
        "    for entry in tup_ls:\n",
        "        if not entry[2].isdigit():\n",
        "            clean_tup_ls.append(entry)\n",
        "    return clean_tup_ls\n",
        "\n",
        "\n",
        "def create_svo_triples(text, print_lists=False):\n",
        "    \n",
        "    clean_text = remove_special_characters(text)\n",
        "    doc = nlp(clean_text)\n",
        "    subject_ls, verb_ls, object_ls = create_svo_lists(doc, print_lists=print_lists)\n",
        "    \n",
        "    graph_tup_ls = []\n",
        "    dedup_tup_ls = []\n",
        "    clean_tup_ls = []\n",
        "    \n",
        "    for subj in subject_ls: \n",
        "        for obj in object_ls:\n",
        "            \n",
        "            dist_ls = []\n",
        "            \n",
        "            for v in verb_ls:\n",
        "                \n",
        "                # Assemble a list of distances between each object and each verb\n",
        "                dist_ls.append(abs(obj[1] - v[1]))\n",
        "                \n",
        "            # Get the index of the verb with the smallest distance to the object \n",
        "            # and return that verb\n",
        "            index_min = min(range(len(dist_ls)), key=dist_ls.__getitem__)\n",
        "            \n",
        "            # Remve stop words from subjects and object.  Note that we do this a bit\n",
        "            # later down in the process to allow for proper sentence recognition.\n",
        "\n",
        "            no_sw_subj = remove_stop_words_and_punct(subj[0])\n",
        "            no_sw_obj = remove_stop_words_and_punct(obj[0])\n",
        "            \n",
        "            # Add entries to the graph iff neither subject nor object is blank\n",
        "            if no_sw_subj and no_sw_obj:\n",
        "                tup = (no_sw_subj, verb_ls[index_min][0], no_sw_obj)\n",
        "                graph_tup_ls.append(tup)\n",
        "        \n",
        "        #clean_tup_ls = remove_dates(graph_tup_ls)\n",
        "    \n",
        "    dedup_tup_ls = remove_duplicates(graph_tup_ls, 2)\n",
        "    clean_tup_ls = remove_dates(dedup_tup_ls)\n",
        "    \n",
        "    return clean_tup_ls"
      ],
      "outputs": [],
      "metadata": {
        "id": "YOL9dMkeSqz0"
      },
      "id": "YOL9dMkeSqz0"
    },
    {
      "cell_type": "code",
      "execution_count": null,
      "source": [
        "def get_obj_properties(tup_ls):\n",
        "    \n",
        "    init_obj_tup_ls = []\n",
        "    \n",
        "    for tup in tup_ls:\n",
        "\n",
        "        try:\n",
        "            text, node_label_ls, url = query_google(tup[2], api_key, limit=1)\n",
        "            new_tup = (tup[0], tup[1], tup[2], text[0], node_label_ls[0], url[0])\n",
        "        except:\n",
        "            new_tup = (tup[0], tup[1], tup[2], [], [], [])\n",
        "        \n",
        "        init_obj_tup_ls.append(new_tup)\n",
        "        \n",
        "    return init_obj_tup_ls\n",
        "\n",
        "\n",
        "def add_layer(tup_ls):\n",
        "\n",
        "    svo_tup_ls = []\n",
        "    \n",
        "    for tup in tup_ls:\n",
        "        \n",
        "        if tup[3]:\n",
        "            svo_tup = create_svo_triples(tup[3])\n",
        "            svo_tup_ls.extend(svo_tup)\n",
        "        else:\n",
        "            continue\n",
        "    \n",
        "    return get_obj_properties(svo_tup_ls)\n",
        "        \n",
        "\n",
        "def subj_equals_obj(tup_ls):\n",
        "    \n",
        "    new_tup_ls = []\n",
        "    \n",
        "    for tup in tup_ls:\n",
        "        if tup[0] != tup[2]:\n",
        "            new_tup_ls.append((tup[0], tup[1], tup[2], tup[3], tup[4], tup[5]))\n",
        "            \n",
        "    return new_tup_ls\n",
        "\n",
        "\n",
        "def check_for_string_labels(tup_ls):\n",
        "    # This is for an edge case where the object does not get fully populated\n",
        "    # resulting in the node labels being assigned to string instead of list.\n",
        "    # This may not be strictly necessary and the lines using it are commnted out\n",
        "    # below.  Run this function if you come across this case.\n",
        "    \n",
        "    clean_tup_ls = []\n",
        "    \n",
        "    for el in tup_ls:\n",
        "        if isinstance(el[2], list):\n",
        "            clean_tup_ls.append(el)\n",
        "            \n",
        "    return clean_tup_ls\n",
        "\n",
        "\n",
        "def create_word_vectors(tup_ls):\n",
        "\n",
        "    new_tup_ls = []\n",
        "    \n",
        "    for tup in tup_ls:\n",
        "        if tup[3]:\n",
        "            doc = nlp(tup[3])\n",
        "            new_tup = (tup[0], tup[1], tup[2], tup[3], tup[4], tup[5], doc.vector)\n",
        "        else:\n",
        "            new_tup = (tup[0], tup[1], tup[2], tup[3], tup[4], tup[5], np.random.uniform(low=-1.0, high=1.0, size=(300,)))\n",
        "        new_tup_ls.append(new_tup)\n",
        "        \n",
        "    return new_tup_ls"
      ],
      "outputs": [],
      "metadata": {
        "id": "oztLGj4ISqz1"
      },
      "id": "oztLGj4ISqz1"
    },
    {
      "cell_type": "code",
      "execution_count": null,
      "source": [
        "def dedup(tup_ls):\n",
        "    \n",
        "    visited = set()\n",
        "    output_ls = []\n",
        "    \n",
        "    for tup in tup_ls:\n",
        "        if not tup[0] in visited:\n",
        "            visited.add(tup[0])\n",
        "            output_ls.append((tup[0], tup[1], tup[2], tup[3], tup[4]))\n",
        "            \n",
        "    return output_ls\n",
        "\n",
        "\n",
        "def convert_vec_to_ls(tup_ls):\n",
        "    \n",
        "    vec_to_ls_tup = []\n",
        "    \n",
        "    for el in tup_ls:\n",
        "        vec_ls = [float(v) for v in el[4]]\n",
        "        tup = (el[0], el[1], el[2], el[3], vec_ls)\n",
        "        vec_to_ls_tup.append(tup)\n",
        "        \n",
        "    return vec_to_ls_tup\n",
        "\n",
        "\n",
        "def add_nodes(tup_ls):   \n",
        "\n",
        "    keys = ['name', 'description', 'node_labels', 'url', 'word_vec']\n",
        "    merge_nodes(graph.auto(), tup_ls, ('Node', 'name'), keys=keys)\n",
        "    print('Number of nodes in graph: ', graph.nodes.match('Node').count())\n",
        "    \n",
        "    return"
      ],
      "outputs": [],
      "metadata": {
        "id": "oXkbrBxASqz2"
      },
      "id": "oXkbrBxASqz2"
    },
    {
      "cell_type": "code",
      "execution_count": 19,
      "source": [
        "def add_edges(edge_ls):\n",
        "    \n",
        "    edge_dc = {} \n",
        "    \n",
        "    # Group tuple by verb\n",
        "    # Result: {verb1: [(sub1, v1, obj1), (sub2, v2, obj2), ...],\n",
        "    #          verb2: [(sub3, v3, obj3), (sub4, v4, obj4), ...]}\n",
        "    \n",
        "    for tup in edge_ls: \n",
        "        if tup[1] in edge_dc: \n",
        "            edge_dc[tup[1]].append((tup[0], tup[1], tup[2])) \n",
        "        else: \n",
        "            edge_dc[tup[1]] = [(tup[0], tup[1], tup[2])] \n",
        "    \n",
        "    for edge_labels, tup_ls in tqdm(edge_dc.items()):   # k=edge labels, v = list of tuples\n",
        "        \n",
        "        tx = graph.begin()\n",
        "        \n",
        "        for el in tup_ls:\n",
        "            source_node = nodes_matcher.match(name=el[0]).first()\n",
        "            target_node = nodes_matcher.match(name=el[2]).first()\n",
        "            if not source_node:\n",
        "                source_node = Node('Node', name=el[0])\n",
        "                tx.create(source_node)\n",
        "            if not target_node:\n",
        "                try:\n",
        "                    target_node = Node('Node', name=el[2], node_labels=el[4], url=el[5], word_vec=el[6])\n",
        "                    tx.create(target_node)\n",
        "                except:\n",
        "                    continue\n",
        "            try:\n",
        "                rel = Relationship(source_node, edge_labels, target_node)\n",
        "            except:\n",
        "                continue\n",
        "            tx.create(rel)\n",
        "        graph.commit(tx)\n",
        "    \n",
        "    return"
      ],
      "outputs": [],
      "metadata": {
        "id": "9ziT5QSvSqz3"
      },
      "id": "9ziT5QSvSqz3"
    },
    {
      "cell_type": "markdown",
      "source": [
        "# Jump back in here!\n",
        "\n",
        "Now we are going to create the nodes and edges for Barack and Michelle Obama and populate the database with them.\n",
        "\n",
        "To do so, I have combined several of the steps in the previous notebook into a couple of helper functions."
      ],
      "metadata": {
        "id": "k57a5eLKSqz4"
      },
      "id": "k57a5eLKSqz4"
    },
    {
      "cell_type": "code",
      "execution_count": 20,
      "source": [
        "def edge_tuple_creation(text):\n",
        "    \n",
        "    initial_tup_ls = create_svo_triples(text)\n",
        "    init_obj_tup_ls = get_obj_properties(initial_tup_ls)\n",
        "    new_layer_ls = add_layer(init_obj_tup_ls)\n",
        "    starter_edge_ls = init_obj_tup_ls + new_layer_ls\n",
        "    edge_ls = subj_equals_obj(starter_edge_ls)\n",
        "    edges_word_vec_ls = create_word_vectors(edge_ls)\n",
        "    \n",
        "    return edges_word_vec_ls\n",
        "\n",
        "\n",
        "def node_tuple_creation(edges_word_vec_ls):\n",
        "    \n",
        "    orig_node_tup_ls = [(edges_word_vec_ls[0][0], '', ['Subject'], '', np.random.uniform(low=-1.0, high=1.0, size=(300,)))]\n",
        "    obj_node_tup_ls = [(tup[2], tup[3], tup[4], tup[5], tup[6]) for tup in edges_word_vec_ls]\n",
        "    full_node_tup_ls = orig_node_tup_ls + obj_node_tup_ls\n",
        "    cleaned_node_tup_ls = check_for_string_labels(full_node_tup_ls)\n",
        "    #dedup_node_tup_ls = dedup(cleaned_node_tup_ls)\n",
        "    dedup_node_tup_ls = cleaned_node_tup_ls\n",
        "    node_tup_ls = convert_vec_to_ls(dedup_node_tup_ls)\n",
        "    \n",
        "    return node_tup_ls    "
      ],
      "outputs": [],
      "metadata": {
        "id": "mmvVYzueSqz4"
      },
      "id": "mmvVYzueSqz4"
    },
    {
      "cell_type": "code",
      "execution_count": 24,
      "source": [
        "# If you are using a Sandbox instance, you will want to use the following (commented) line.  \n",
        "# If you are using a Docker container for your DB, use the uncommented line.\n",
        "graph = Graph(\"bolt://3.87.221.123:7687\", name=\"neo4j\", password=\"\")\n",
        "\n",
        "# graph = Graph(\"bolt://neo4j:7687\", name=\"neo4j\", password=\"kgDemo\")\n",
        "nodes_matcher = NodeMatcher(graph)"
      ],
      "outputs": [],
      "metadata": {
        "id": "RS9RrxpUSqz5"
      },
      "id": "RS9RrxpUSqz5"
    },
    {
      "cell_type": "code",
      "execution_count": 25,
      "source": [
        "%%time\n",
        "# barack_text = wikipedia.summary('missouri')\n",
        "# barack_edges_word_vec_ls = edge_tuple_creation(barack_text)\n",
        "# barack_node_tup_ls = node_tuple_creation(barack_edges_word_vec_ls)\n",
        "mo_page = wikipedia.page(\"Missouri\")\n",
        "mo_text = mo_page.content[0:10000] \n",
        "mo_edges_word_vec_ls = edge_tuple_creation(mo_text)\n",
        "mo_node_tup_ls = node_tuple_creation(mo_edges_word_vec_ls)\n",
        "\n",
        "# michelle_text = wikipedia.summary('michelle obama')\n",
        "# michelle_edges_word_vec_ls = edge_tuple_creation(michelle_text)\n",
        "# michelle_node_tup_ls = node_tuple_creation(michelle_edges_word_vec_ls)\n",
        "ks_page = wikipedia.page(\"Kansas\")\n",
        "ks_text = ks_page.content[0:10000] \n",
        "ks_edges_word_vec_ls = edge_tuple_creation(ks_text)\n",
        "ks_node_tup_ls = node_tuple_creation(ks_edges_word_vec_ls)"
      ],
      "outputs": [
        {
          "output_type": "stream",
          "name": "stdout",
          "text": [
            "CPU times: user 18min 38s, sys: 5.61 s, total: 18min 43s\n",
            "Wall time: 24min 32s\n"
          ]
        }
      ],
      "metadata": {
        "id": "1Fm5uAcwSqz5",
        "outputId": "2a27cba1-6da5-431d-b2c7-07d305529fa0",
        "colab": {
          "base_uri": "https://localhost:8080/"
        }
      },
      "id": "1Fm5uAcwSqz5"
    },
    {
      "cell_type": "code",
      "execution_count": 26,
      "source": [
        "full_node_ls = mo_node_tup_ls + ks_node_tup_ls\n",
        "full_edge_ls = mo_edges_word_vec_ls + ks_edges_word_vec_ls\n",
        "full_dedup_node_tup_ls = dedup(full_node_ls)\n",
        "print(len(full_node_ls), len(full_dedup_node_tup_ls))"
      ],
      "outputs": [
        {
          "output_type": "stream",
          "name": "stdout",
          "text": [
            "2281 1668\n"
          ]
        }
      ],
      "metadata": {
        "id": "2FJJF1t7Sqz6",
        "outputId": "166048f1-2274-4abe-bde1-6bbc64cbb5a0",
        "colab": {
          "base_uri": "https://localhost:8080/"
        }
      },
      "id": "2FJJF1t7Sqz6"
    },
    {
      "cell_type": "markdown",
      "source": [
        "The below cells remove all occurences of quotation marks in the description fields of the nodes/edges which was breaking the json formatting/parsing. There is probably somewhere else in the notebook to handle this during node/edge creation."
      ],
      "metadata": {
        "id": "mVX9EA6bCHOu"
      },
      "id": "mVX9EA6bCHOu"
    },
    {
      "cell_type": "code",
      "execution_count": null,
      "source": [
        "new_full_dedup_node_tup_ls = []\n",
        "\n",
        "# remove \" \" from w/in node description\n",
        "for node in full_dedup_node_tup_ls:\n",
        "  description = node[1]\n",
        "  if(description == []):\n",
        "    description = \"\"\n",
        "  # node[1] = str(description).replace('\"', '')\n",
        "  new_node = (node[0], \n",
        "              str(description).replace('\"', ''),\n",
        "              node[2],\n",
        "              node[3],\n",
        "              node[4])\n",
        "  new_full_dedup_node_tup_ls.append(new_node)"
      ],
      "outputs": [],
      "metadata": {
        "id": "94LcAy6sSqz7"
      },
      "id": "94LcAy6sSqz7"
    },
    {
      "cell_type": "code",
      "source": [
        "print(full_dedup_node_tup_ls[104])\n",
        "print(new_full_dedup_node_tup_ls[104])"
      ],
      "metadata": {
        "colab": {
          "base_uri": "https://localhost:8080/"
        },
        "id": "UjH7uf5qgMoS",
        "outputId": "bfbbe513-47cc-4ee0-e6c8-cf5a8e7b628a"
      },
      "execution_count": null,
      "outputs": [
        {
          "output_type": "stream",
          "name": "stdout",
          "text": [
            "('saying', 'A saying is any concisely written or spoken expression that is especially memorable because of its meaning or style. Sayings are categorized as follows:\\nAphorism: a general, observational truth; \"a pithy expression of wisdom or truth\".\\n', ['Thing'], 'https://en.wikipedia.org/wiki/Saying', [-2.104823350906372, -0.16025488078594208, 0.2129518836736679, -0.17204947769641876, 5.350729942321777, 0.7137816548347473, -0.3131940960884094, 1.2536331415176392, -0.9017776846885681, -2.2826225757598877, 7.1345953941345215, 0.6474570035934448, -2.7887513637542725, 0.3483678698539734, 1.3838080167770386, 1.581668734550476, 1.0454082489013672, 1.3519684076309204, -0.6040677428245544, -0.8614594340324402, -0.2080618143081665, -1.8496254682540894, -2.854306936264038, 0.9931855797767639, -1.623550295829773, -1.9286696910858154, 1.0440289974212646, -1.0019266605377197, -0.5159785151481628, 0.35621586441993713, -0.4587947726249695, -0.3029077351093292, -2.493476152420044, -0.7761460542678833, -2.2885944843292236, 0.15863321721553802, -0.2219477742910385, 1.1288843154907227, 1.4259037971496582, 1.7252479791641235, 0.7808818221092224, -0.7110180854797363, -2.2477035522460938, 1.7009010314941406, -3.5840861797332764, 2.351087808609009, 2.1533114910125732, -1.3971539735794067, -0.15740162134170532, 0.40093421936035156, -2.222306728363037, 1.8257132768630981, 1.6738685369491577, -4.710686206817627, -1.0475847721099854, 0.5242981314659119, -0.29456305503845215, 1.473430871963501, 1.6396814584732056, -0.28151535987854004, 2.6895904541015625, -0.7813625335693359, -0.6701593399047852, -1.2333136796951294, 0.7083929181098938, 1.9705766439437866, -1.9778615236282349, -5.726892471313477, 1.3253421783447266, 1.4533884525299072, -1.6465654373168945, 1.1153110265731812, -2.7372355461120605, 0.35492873191833496, -1.0260826349258423, 1.1566485166549683, -4.015219211578369, 1.7811416387557983, -2.223712921142578, 2.2321157455444336, -3.5191094875335693, 0.18696680665016174, 0.12391594797372818, 0.44242048263549805, 2.077728271484375, 0.3337443768978119, -2.668682813644409, -1.7654640674591064, 1.562826156616211, 1.758121132850647, 0.7202132344245911, -1.4101752042770386, 1.6068575382232666, -3.0080833435058594, -0.2511293292045593, -3.0392823219299316, 0.09537690132856369, 0.0589483380317688, -1.9375957250595093, 0.3288906514644623, 0.7881284952163696, 1.3541429042816162, 2.786834955215454, 4.459488391876221, -0.4995351731777191, 4.467321872711182, 2.679027557373047, -1.7013641595840454, -0.2917979657649994, -0.528997540473938, 1.7166526317596436, 1.706549048423767, -2.5014843940734863, 1.6977688074111938, 0.8616297841072083, 0.9120177030563354, -1.4437634944915771, 1.442245602607727, -0.8878823518753052, -1.4048188924789429, -1.1503757238388062, -2.770115375518799, 2.1850719451904297, 1.519547939300537, -2.2671709060668945, -5.864527702331543, -0.10535912215709686, -3.648852825164795, 2.5910284519195557, -0.4253188967704773, -2.2394697666168213, 0.5768548846244812, 2.9046082496643066, -1.8139065504074097, -0.8881921768188477, 1.5053492784500122, -1.4256583452224731, -2.122408151626587, 1.073720932006836, -2.3571486473083496, -1.200089693069458, -0.21073134243488312, 0.37908509373664856, 0.2359643429517746, 0.39030951261520386, -1.7108646631240845, -3.179065465927124, -0.03826642781496048, -0.33674752712249756, 2.307616949081421, 0.5561617016792297, 2.3517520427703857, -0.7547653913497925, 1.8216794729232788, -0.5144621729850769, 1.3438854217529297, 1.9786760807037354, 2.3418617248535156, -0.5493042469024658, -1.2620468139648438, 1.0666192770004272, 1.4920713901519775, 0.06633156538009644, 1.6761012077331543, -1.8374345302581787, -4.005407333374023, -3.3663601875305176, 1.597379207611084, 0.995115339756012, 0.7809730768203735, 1.1365004777908325, -1.85474693775177, 3.1582469940185547, -0.6776684522628784, 1.0598046779632568, -0.64388507604599, 2.1128649711608887, 2.0206823348999023, -2.6305339336395264, -1.5978530645370483, 0.8038459420204163, -0.38923344016075134, 1.698514461517334, -1.039971113204956, -0.7549978494644165, -0.43180060386657715, -1.6887961626052856, 0.43778106570243835, -0.8300337195396423, 1.895951509475708, -1.0318191051483154, -2.1432173252105713, 1.2738895416259766, -0.13674423098564148, 1.7024096250534058, -0.08831050246953964, -1.820668339729309, 0.03198353573679924, 2.632417917251587, -1.035378098487854, 0.9028659462928772, -1.2481935024261475, -1.6625277996063232, -1.6573781967163086, 1.8144497871398926, 1.420326828956604, -4.157232284545898, 1.2581201791763306, 0.33216238021850586, -1.6789863109588623, 0.9790446162223816, 0.8157448768615723, -1.9962081909179688, 0.849026083946228, 1.0781784057617188, 1.661277413368225, -0.7104684710502625, -2.808204412460327, 0.17424586415290833, 1.08330500125885, -0.48742252588272095, 2.3440847396850586, 1.4577564001083374, -0.2727240025997162, -1.316469669342041, 1.667201280593872, -0.29397252202033997, 0.6824371814727783, 2.9326515197753906, -0.1337965726852417, 1.7278389930725098, -2.5503814220428467, 0.7672837972640991, 0.6655040383338928, 0.7275667786598206, 1.676292896270752, 0.279262512922287, 2.028777837753296, 0.3482522666454315, -0.1330685317516327, 0.9627775549888611, -0.2764699459075928, 1.8166061639785767, 1.6380960941314697, -1.2718136310577393, -1.0566166639328003, -3.377187967300415, -0.6350705623626709, -2.6864712238311768, 1.84001886844635, 1.715290904045105, -2.6308679580688477, -4.275079250335693, 0.15882611274719238, 0.7421223521232605, -2.1744155883789062, 1.5992393493652344, 1.164000153541565, 0.36503171920776367, 0.34529468417167664, -1.1313085556030273, 3.6280035972595215, 3.1213605403900146, 3.1796982288360596, 0.9371387362480164, 1.244001030921936, -0.652624785900116, 1.9437036514282227, -2.7456283569335938, -0.6574051380157471, 2.689897298812866, 0.9758514761924744, 2.0130324363708496, -1.295561671257019, 0.49360910058021545, 2.3860974311828613, 1.2275190353393555, 1.2645831108093262, -0.23086625337600708, 2.8417341709136963, 1.4320505857467651, -1.6274363994598389, 0.15639403462409973, 1.761284351348877, 0.9232093095779419, -2.0985188484191895, 0.9121242165565491, 0.3015954792499542, 2.0661773681640625, 1.3793922662734985, 0.175461545586586, -0.5175113081932068, 1.3825526237487793, -1.828818917274475, 0.29020223021507263, 0.7372032999992371, 0.6184911727905273, -1.6192468404769897, -2.8065104484558105, 0.15189240872859955])\n",
            "('saying', 'A saying is any concisely written or spoken expression that is especially memorable because of its meaning or style. Sayings are categorized as follows:\\nAphorism: a general, observational truth; a pithy expression of wisdom or truth.\\n', ['Thing'], 'https://en.wikipedia.org/wiki/Saying', [-2.104823350906372, -0.16025488078594208, 0.2129518836736679, -0.17204947769641876, 5.350729942321777, 0.7137816548347473, -0.3131940960884094, 1.2536331415176392, -0.9017776846885681, -2.2826225757598877, 7.1345953941345215, 0.6474570035934448, -2.7887513637542725, 0.3483678698539734, 1.3838080167770386, 1.581668734550476, 1.0454082489013672, 1.3519684076309204, -0.6040677428245544, -0.8614594340324402, -0.2080618143081665, -1.8496254682540894, -2.854306936264038, 0.9931855797767639, -1.623550295829773, -1.9286696910858154, 1.0440289974212646, -1.0019266605377197, -0.5159785151481628, 0.35621586441993713, -0.4587947726249695, -0.3029077351093292, -2.493476152420044, -0.7761460542678833, -2.2885944843292236, 0.15863321721553802, -0.2219477742910385, 1.1288843154907227, 1.4259037971496582, 1.7252479791641235, 0.7808818221092224, -0.7110180854797363, -2.2477035522460938, 1.7009010314941406, -3.5840861797332764, 2.351087808609009, 2.1533114910125732, -1.3971539735794067, -0.15740162134170532, 0.40093421936035156, -2.222306728363037, 1.8257132768630981, 1.6738685369491577, -4.710686206817627, -1.0475847721099854, 0.5242981314659119, -0.29456305503845215, 1.473430871963501, 1.6396814584732056, -0.28151535987854004, 2.6895904541015625, -0.7813625335693359, -0.6701593399047852, -1.2333136796951294, 0.7083929181098938, 1.9705766439437866, -1.9778615236282349, -5.726892471313477, 1.3253421783447266, 1.4533884525299072, -1.6465654373168945, 1.1153110265731812, -2.7372355461120605, 0.35492873191833496, -1.0260826349258423, 1.1566485166549683, -4.015219211578369, 1.7811416387557983, -2.223712921142578, 2.2321157455444336, -3.5191094875335693, 0.18696680665016174, 0.12391594797372818, 0.44242048263549805, 2.077728271484375, 0.3337443768978119, -2.668682813644409, -1.7654640674591064, 1.562826156616211, 1.758121132850647, 0.7202132344245911, -1.4101752042770386, 1.6068575382232666, -3.0080833435058594, -0.2511293292045593, -3.0392823219299316, 0.09537690132856369, 0.0589483380317688, -1.9375957250595093, 0.3288906514644623, 0.7881284952163696, 1.3541429042816162, 2.786834955215454, 4.459488391876221, -0.4995351731777191, 4.467321872711182, 2.679027557373047, -1.7013641595840454, -0.2917979657649994, -0.528997540473938, 1.7166526317596436, 1.706549048423767, -2.5014843940734863, 1.6977688074111938, 0.8616297841072083, 0.9120177030563354, -1.4437634944915771, 1.442245602607727, -0.8878823518753052, -1.4048188924789429, -1.1503757238388062, -2.770115375518799, 2.1850719451904297, 1.519547939300537, -2.2671709060668945, -5.864527702331543, -0.10535912215709686, -3.648852825164795, 2.5910284519195557, -0.4253188967704773, -2.2394697666168213, 0.5768548846244812, 2.9046082496643066, -1.8139065504074097, -0.8881921768188477, 1.5053492784500122, -1.4256583452224731, -2.122408151626587, 1.073720932006836, -2.3571486473083496, -1.200089693069458, -0.21073134243488312, 0.37908509373664856, 0.2359643429517746, 0.39030951261520386, -1.7108646631240845, -3.179065465927124, -0.03826642781496048, -0.33674752712249756, 2.307616949081421, 0.5561617016792297, 2.3517520427703857, -0.7547653913497925, 1.8216794729232788, -0.5144621729850769, 1.3438854217529297, 1.9786760807037354, 2.3418617248535156, -0.5493042469024658, -1.2620468139648438, 1.0666192770004272, 1.4920713901519775, 0.06633156538009644, 1.6761012077331543, -1.8374345302581787, -4.005407333374023, -3.3663601875305176, 1.597379207611084, 0.995115339756012, 0.7809730768203735, 1.1365004777908325, -1.85474693775177, 3.1582469940185547, -0.6776684522628784, 1.0598046779632568, -0.64388507604599, 2.1128649711608887, 2.0206823348999023, -2.6305339336395264, -1.5978530645370483, 0.8038459420204163, -0.38923344016075134, 1.698514461517334, -1.039971113204956, -0.7549978494644165, -0.43180060386657715, -1.6887961626052856, 0.43778106570243835, -0.8300337195396423, 1.895951509475708, -1.0318191051483154, -2.1432173252105713, 1.2738895416259766, -0.13674423098564148, 1.7024096250534058, -0.08831050246953964, -1.820668339729309, 0.03198353573679924, 2.632417917251587, -1.035378098487854, 0.9028659462928772, -1.2481935024261475, -1.6625277996063232, -1.6573781967163086, 1.8144497871398926, 1.420326828956604, -4.157232284545898, 1.2581201791763306, 0.33216238021850586, -1.6789863109588623, 0.9790446162223816, 0.8157448768615723, -1.9962081909179688, 0.849026083946228, 1.0781784057617188, 1.661277413368225, -0.7104684710502625, -2.808204412460327, 0.17424586415290833, 1.08330500125885, -0.48742252588272095, 2.3440847396850586, 1.4577564001083374, -0.2727240025997162, -1.316469669342041, 1.667201280593872, -0.29397252202033997, 0.6824371814727783, 2.9326515197753906, -0.1337965726852417, 1.7278389930725098, -2.5503814220428467, 0.7672837972640991, 0.6655040383338928, 0.7275667786598206, 1.676292896270752, 0.279262512922287, 2.028777837753296, 0.3482522666454315, -0.1330685317516327, 0.9627775549888611, -0.2764699459075928, 1.8166061639785767, 1.6380960941314697, -1.2718136310577393, -1.0566166639328003, -3.377187967300415, -0.6350705623626709, -2.6864712238311768, 1.84001886844635, 1.715290904045105, -2.6308679580688477, -4.275079250335693, 0.15882611274719238, 0.7421223521232605, -2.1744155883789062, 1.5992393493652344, 1.164000153541565, 0.36503171920776367, 0.34529468417167664, -1.1313085556030273, 3.6280035972595215, 3.1213605403900146, 3.1796982288360596, 0.9371387362480164, 1.244001030921936, -0.652624785900116, 1.9437036514282227, -2.7456283569335938, -0.6574051380157471, 2.689897298812866, 0.9758514761924744, 2.0130324363708496, -1.295561671257019, 0.49360910058021545, 2.3860974311828613, 1.2275190353393555, 1.2645831108093262, -0.23086625337600708, 2.8417341709136963, 1.4320505857467651, -1.6274363994598389, 0.15639403462409973, 1.761284351348877, 0.9232093095779419, -2.0985188484191895, 0.9121242165565491, 0.3015954792499542, 2.0661773681640625, 1.3793922662734985, 0.175461545586586, -0.5175113081932068, 1.3825526237487793, -1.828818917274475, 0.29020223021507263, 0.7372032999992371, 0.6184911727905273, -1.6192468404769897, -2.8065104484558105, 0.15189240872859955])\n"
          ]
        }
      ],
      "id": "UjH7uf5qgMoS"
    },
    {
      "cell_type": "code",
      "source": [
        "new_full_edge_ls = []\n",
        "\n",
        "for edge in full_edge_ls:\n",
        "  description = edge[3]\n",
        "  if(description == []):\n",
        "    description = \"\"\n",
        "  new_edge = (edge[0],\n",
        "              edge[1],\n",
        "              edge[2],\n",
        "              str(description).replace('\"', ''),\n",
        "              edge[4],\n",
        "              edge[5],\n",
        "              edge[6])\n",
        "  new_full_edge_ls.append(new_edge)"
      ],
      "metadata": {
        "id": "xN14xoa5hazV"
      },
      "execution_count": null,
      "outputs": [],
      "id": "xN14xoa5hazV"
    },
    {
      "cell_type": "code",
      "source": [
        "print(full_edge_ls[104][3])\n",
        "print(new_full_edge_ls[104][3])"
      ],
      "metadata": {
        "colab": {
          "base_uri": "https://localhost:8080/"
        },
        "id": "Olqal9jFic3d",
        "outputId": "7ca0d555-da92-4de2-b72b-0d438101c950"
      },
      "execution_count": null,
      "outputs": [
        {
          "output_type": "stream",
          "name": "stdout",
          "text": [
            "In classical physics and general chemistry, matter is any substance that has mass and takes up space by having volume. All everyday objects that can be touched are ultimately composed of atoms, which are made up of interacting subatomic particles, and in everyday as well as scientific usage, \"matter\" generally includes atoms and anything made up of them, and any particles that act as if they have both rest mass and volume. \n",
            "In classical physics and general chemistry, matter is any substance that has mass and takes up space by having volume. All everyday objects that can be touched are ultimately composed of atoms, which are made up of interacting subatomic particles, and in everyday as well as scientific usage, matter generally includes atoms and anything made up of them, and any particles that act as if they have both rest mass and volume. \n"
          ]
        }
      ],
      "id": "Olqal9jFic3d"
    },
    {
      "cell_type": "code",
      "source": [
        "print(len(full_dedup_node_tup_ls))\n",
        "print(len(new_full_dedup_node_tup_ls))\n",
        "print(len(full_edge_ls))\n",
        "print(len(new_full_edge_ls))"
      ],
      "metadata": {
        "colab": {
          "base_uri": "https://localhost:8080/"
        },
        "id": "DtRkGtaUi3QQ",
        "outputId": "57ea9d27-6c37-4e50-9019-1061d737266d"
      },
      "execution_count": null,
      "outputs": [
        {
          "output_type": "stream",
          "name": "stdout",
          "text": [
            "1668\n",
            "1668\n",
            "2281\n",
            "2281\n"
          ]
        }
      ],
      "id": "DtRkGtaUi3QQ"
    },
    {
      "cell_type": "code",
      "execution_count": 122,
      "source": [
        "add_nodes(new_full_dedup_node_tup_ls)\n",
        "add_edges(new_full_edge_ls)"
      ],
      "outputs": [
        {
          "output_type": "stream",
          "name": "stdout",
          "text": [
            "Number of nodes in graph:  2190\n"
          ]
        },
        {
          "output_type": "stream",
          "name": "stderr",
          "text": [
            "100%|██████████| 187/187 [02:53<00:00,  1.08it/s]\n"
          ]
        }
      ],
      "metadata": {
        "id": "sgn9EwGCSqz6",
        "outputId": "be4e5ffc-4513-46bf-c7b2-ec87a7cfd320",
        "colab": {
          "base_uri": "https://localhost:8080/"
        }
      },
      "id": "sgn9EwGCSqz6"
    },
    {
      "cell_type": "markdown",
      "source": [
        "# Next steps...\n",
        "\n",
        "We now have a graph that we can tinker with.  I would encourage you to explore the Cypher queries that can be found in `cypher_queries/`.  You will need to run several of these in order to use the next notebook, where we will explore doing some machine learning on the graph.  Note that any Cypher query can be done using `py2neo` or the official Neo4j python driver.  In the workshop, I will demonstrate these using the Neo4j browser, which you will find at `localhost:7474`."
      ],
      "metadata": {
        "id": "T65GsVQZSqz7"
      },
      "id": "T65GsVQZSqz7"
    },
    {
      "cell_type": "code",
      "source": [],
      "metadata": {
        "id": "W66RNVVMB3TA"
      },
      "id": "W66RNVVMB3TA",
      "execution_count": null,
      "outputs": []
    }
  ],
  "metadata": {
    "kernelspec": {
      "display_name": "Python 3",
      "language": "python",
      "name": "python3"
    },
    "language_info": {
      "codemirror_mode": {
        "name": "ipython",
        "version": 3
      },
      "file_extension": ".py",
      "mimetype": "text/x-python",
      "name": "python",
      "nbconvert_exporter": "python",
      "pygments_lexer": "ipython3",
      "version": "3.8.8"
    },
    "colab": {
      "provenance": [],
      "include_colab_link": true
    }
  },
  "nbformat": 4,
  "nbformat_minor": 5
}